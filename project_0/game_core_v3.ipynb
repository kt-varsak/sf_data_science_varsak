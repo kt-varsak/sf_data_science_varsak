{
 "cells": [
  {
   "attachments": {},
   "cell_type": "markdown",
   "metadata": {},
   "source": [
    "# Угадай число\n",
    "Нужно написать программу, которая угадывает число за минимальное число попыток.\n",
    "\n",
    "## Условия соревнования\n",
    "- Компьютер загадывает целое число от 1 до 100, и нам его нужно угадать. Под «угадать», подразумевается «написать программу, которая угадывает число».    \n",
    "- Алгоритм учитывает информацию о том, больше ли случайное число или меньше нужного нам.\n",
    "- Необходимо добиться того, чтобы программа угадывала число меньше, чем за 20 попыток. "
   ]
  },
  {
   "attachments": {},
   "cell_type": "markdown",
   "metadata": {},
   "source": [
    "Импортируем библиотеку, которая нужна для генерации случайных чисел."
   ]
  },
  {
   "cell_type": "code",
   "execution_count": 1,
   "metadata": {},
   "outputs": [],
   "source": [
    "import numpy as np"
   ]
  },
  {
   "attachments": {},
   "cell_type": "markdown",
   "metadata": {},
   "source": [
    "Функция, принимающая на вход загаданное число и возвращает число попыток угадывания. \n",
    "Суть в том, чтобы установить любое число, а затем сокращать диапазон искомых значений \n",
    "    в зависимости от того, больше или меньше оно середины диапазона и т.д."
   ]
  },
  {
   "cell_type": "code",
   "execution_count": 2,
   "metadata": {},
   "outputs": [],
   "source": [
    "def game_core_v3(number):\n",
    "    '''\n",
    "    Args:\n",
    "        number (int, optional): Загаданное число. Defaults to 1.\n",
    "\n",
    "    Returns:\n",
    "        int: Число попыток \n",
    "    '''\n",
    "\n",
    "    range_min = 1  # начало диапазона\n",
    "    range_max = 100  # конец диапазона\n",
    "    range_middle = (range_min+range_max) // 2  # середина диапазона\n",
    "\n",
    "    predict = np.random.randint(range_min, range_max+1)  # подбор числа\n",
    "    tries = 1  # счетчик числа попыток\n",
    "\n",
    "    while number != predict:  # бесконечный цикл\n",
    "        tries += 1\n",
    "        if predict == range_middle:\n",
    "            break  # загаданное число - середина диапазона: выходим из цикла\n",
    "        elif predict > range_middle:\n",
    "            # рандомное число из диапазона\n",
    "            number = np.random.randint(range_middle+1, range_max+1)\n",
    "            # сокращаем дапазон в 5 раз в зависимости от того < или больше число, чем середина\n",
    "            range_middle = range_middle + range_middle // 5\n",
    "        elif predict < range_middle:\n",
    "            number = np.random.randint(range_middle // 5, range_middle)\n",
    "            range_middle = range_middle - range_middle // 5\n",
    "    return(tries)  # выход из цикла, если число угадано\n",
    "\n",
    "\n",
    "def score_game(game_core):  # функция для тестирования из задания\n",
    "    '''Запускаем игру 1000 раз, чтобы узнать, как быстро игра угадывает число'''\n",
    "    count_ls = []\n",
    "    np.random.seed(1)  # фиксируем RANDOM SEED, чтобы эксперимент был воспроизводим!\n",
    "    random_array = np.random.randint(1, 101, size=(1000))\n",
    "    for number in random_array:\n",
    "        count_ls.append(game_core(number))\n",
    "    score = int(np.mean(count_ls))\n",
    "    return(print(f\"Ваш алгоритм угадывает число в среднем за {score} попыток\"))"
   ]
  },
  {
   "attachments": {},
   "cell_type": "markdown",
   "metadata": {},
   "source": [
    "Оценим качество алгоритма:"
   ]
  },
  {
   "cell_type": "code",
   "execution_count": 3,
   "metadata": {},
   "outputs": [
    {
     "name": "stdout",
     "output_type": "stream",
     "text": [
      "Run benchmarking for game_core_v3: Ваш алгоритм угадывает число в среднем за 17 попыток\n"
     ]
    }
   ],
   "source": [
    "print('Run benchmarking for game_core_v3: ', end='')\n",
    "score_game(game_core_v3)  # тестируем"
   ]
  }
 ],
 "metadata": {
  "kernelspec": {
   "display_name": "Python 3",
   "language": "python",
   "name": "python3"
  },
  "language_info": {
   "codemirror_mode": {
    "name": "ipython",
    "version": 3
   },
   "file_extension": ".py",
   "mimetype": "text/x-python",
   "name": "python",
   "nbconvert_exporter": "python",
   "pygments_lexer": "ipython3",
   "version": "3.11.1"
  },
  "orig_nbformat": 4,
  "vscode": {
   "interpreter": {
    "hash": "aee8b7b246df8f9039afb4144a1f6fd8d2ca17a180786b69acc140d282b71a49"
   }
  }
 },
 "nbformat": 4,
 "nbformat_minor": 2
}
